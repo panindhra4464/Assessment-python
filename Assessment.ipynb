{
 "cells": [
  {
   "cell_type": "code",
   "execution_count": 6,
   "id": "f77398a1-97d5-4b0b-9801-3dd1eab2c952",
   "metadata": {},
   "outputs": [
    {
     "name": "stdout",
     "output_type": "stream",
     "text": [
      "The correct option is A:\n",
      " [[2 3 4]\n",
      " [3 4 5]\n",
      " [4 5 6]]\n"
     ]
    }
   ],
   "source": [
    "# Question 1\n",
    "import numpy as np\n",
    "a = np.array([1,2,3])\n",
    "b= np.array([[1],[2],[3]])\n",
    "print(\"The correct option is A:\\n\",a+b)"
   ]
  },
  {
   "cell_type": "code",
   "execution_count": 9,
   "id": "2ff7b2e6-b17a-4cf6-a2d3-155a3d5c25cb",
   "metadata": {},
   "outputs": [
    {
     "name": "stdout",
     "output_type": "stream",
     "text": [
      "[[ 0  1  2  3]\n",
      " [ 4  5  6  7]\n",
      " [ 8  9 10 11]]\n",
      "The correct option is A:\n",
      " [[ 5  6]\n",
      " [ 9 10]]\n"
     ]
    }
   ],
   "source": [
    "#question 2\n",
    "arr = np.arange(12).reshape(3,4)\n",
    "print(arr)\n",
    "print(\"The correct option is A:\\n\",arr[1:3, 1:3])"
   ]
  },
  {
   "cell_type": "code",
   "execution_count": 10,
   "id": "bc1a6ffc-ce69-498a-b47c-9f9eebb08fbf",
   "metadata": {},
   "outputs": [
    {
     "data": {
      "text/plain": [
       "array([0, 0, 0, 1, 2])"
      ]
     },
     "execution_count": 10,
     "metadata": {},
     "output_type": "execute_result"
    }
   ],
   "source": [
    "# question 3\n",
    "arr = np.array([-2,-1,0,1,2])\n",
    "arr[arr<0]=(0)\n",
    "arr"
   ]
  },
  {
   "cell_type": "code",
   "execution_count": 11,
   "id": "63adf346-662b-469d-8787-1ab2d7538454",
   "metadata": {},
   "outputs": [
    {
     "name": "stdout",
     "output_type": "stream",
     "text": [
      "[2.  4.5]\n"
     ]
    }
   ],
   "source": [
    "# question 4\n",
    "\n",
    "matrix = np.array ([[1, np.nan, 3], [4, 5, np.nan]])\n",
    "row_mean = np.nanmean(matrix, axis=1)\n",
    "print(row_mean)"
   ]
  },
  {
   "cell_type": "code",
   "execution_count": 13,
   "id": "6f471bba-7892-4b0c-b72b-cabf5de8332b",
   "metadata": {},
   "outputs": [
    {
     "name": "stdout",
     "output_type": "stream",
     "text": [
      "The correct option is A:\n",
      " [10 30]\n"
     ]
    }
   ],
   "source": [
    "# question 5\n",
    "data = np.array([10, 20, 30, 40])\n",
    "idx = np.array([True, False, True, False])\n",
    "print(\"The correct option is A:\\n\",data[idx])\n"
   ]
  },
  {
   "cell_type": "code",
   "execution_count": 14,
   "id": "64a741ba-fc38-4bdc-9a72-a9304268a7fb",
   "metadata": {},
   "outputs": [
    {
     "data": {
      "text/html": [
       "<div>\n",
       "<style scoped>\n",
       "    .dataframe tbody tr th:only-of-type {\n",
       "        vertical-align: middle;\n",
       "    }\n",
       "\n",
       "    .dataframe tbody tr th {\n",
       "        vertical-align: top;\n",
       "    }\n",
       "\n",
       "    .dataframe thead th {\n",
       "        text-align: right;\n",
       "    }\n",
       "</style>\n",
       "<table border=\"1\" class=\"dataframe\">\n",
       "  <thead>\n",
       "    <tr style=\"text-align: right;\">\n",
       "      <th></th>\n",
       "      <th>Name</th>\n",
       "      <th>Age</th>\n",
       "    </tr>\n",
       "  </thead>\n",
       "  <tbody>\n",
       "    <tr>\n",
       "      <th>100</th>\n",
       "      <td>Alice</td>\n",
       "      <td>25</td>\n",
       "    </tr>\n",
       "    <tr>\n",
       "      <th>101</th>\n",
       "      <td>Bob</td>\n",
       "      <td>30</td>\n",
       "    </tr>\n",
       "    <tr>\n",
       "      <th>102</th>\n",
       "      <td>Charlie</td>\n",
       "      <td>35</td>\n",
       "    </tr>\n",
       "  </tbody>\n",
       "</table>\n",
       "</div>"
      ],
      "text/plain": [
       "        Name  Age\n",
       "100    Alice   25\n",
       "101      Bob   30\n",
       "102  Charlie   35"
      ]
     },
     "execution_count": 14,
     "metadata": {},
     "output_type": "execute_result"
    }
   ],
   "source": [
    "#question 6 \n",
    "import pandas as pd\n",
    "data = {'Name':['Alice','Bob','Charlie'], 'Age':[25,30,35]}\n",
    "ind = [100,101,102]\n",
    "op = pd.DataFrame(data, index=ind)\n",
    "print(op)\n"
   ]
  },
  {
   "cell_type": "code",
   "execution_count": 15,
   "id": "4a49a2ec-13ef-4a15-a674-9a177c5c22e0",
   "metadata": {},
   "outputs": [
    {
     "name": "stdout",
     "output_type": "stream",
     "text": [
      "     A    B\n",
      "0  1.0  NaN\n",
      "1  2.0  5.0\n",
      "2  NaN  6.0\n",
      "5.5\n",
      "     A    B\n",
      "0  1.0  5.5\n",
      "1  2.0  5.0\n",
      "2  NaN  6.0\n"
     ]
    }
   ],
   "source": [
    "#questio 7\n",
    "df = pd.DataFrame({'A': [1, 2, np.nan], 'B': [np.nan, 5, 6]})\n",
    "print(df)\n",
    "meanB=df['B'].mean()\n",
    "print(meanB)\n",
    "df['B']=df['B'].replace(np.nan , meanB)\n",
    "print(df)"
   ]
  },
  {
   "cell_type": "code",
   "execution_count": 16,
   "id": "c549bcd4-d07e-4b43-bc59-e63bac115d6f",
   "metadata": {},
   "outputs": [
    {
     "name": "stdout",
     "output_type": "stream",
     "text": [
      "<bound method DataFrame.reset_index of         Sales  Profit\n",
      "Region               \n",
      "North     250    22.5\n",
      "South     450    35.0>\n"
     ]
    }
   ],
   "source": [
    "#question 8\n",
    "df = pd.DataFrame({\n",
    "    'Region': ['North', 'South', 'North', 'South'],\n",
    "    'Sales': [100, 200, 150, 250],\n",
    "    'Profit': [20, 30, 25, 40]})\n",
    "df1 =  df.groupby('Region').agg({ 'Sales': 'sum', 'Profit': 'mean'}).reset_index\n",
    "print(df1)"
   ]
  },
  {
   "cell_type": "code",
   "execution_count": 17,
   "id": "ae3729b2-4eea-4fbf-8806-153325b84310",
   "metadata": {},
   "outputs": [
    {
     "name": "stdout",
     "output_type": "stream",
     "text": [
      "   order_id  cust_id   name\n",
      "0         1      101  Alice\n",
      "1         2      102    NaN\n"
     ]
    }
   ],
   "source": [
    "#question 9\n",
    "orders = pd.DataFrame({'order_id': [1, 2], 'cust_id': [101, 102]})\n",
    "customers = pd.DataFrame({'cust_id': [101, 103], 'name': ['Alice', 'Bob']})\n",
    "m1 = pd.merge(orders,customers,on='cust_id', how='left')\n",
    "print(m1)"
   ]
  },
  {
   "cell_type": "code",
   "execution_count": 25,
   "id": "eb6dfe9c-0b2f-46f0-ae82-9629d62f8602",
   "metadata": {},
   "outputs": [
    {
     "name": "stdout",
     "output_type": "stream",
     "text": [
      "         Date  Value\n",
      "0  2023-01-05     10\n",
      "1  2023-01-15     20\n",
      "2  2023-02-10     30\n",
      "            Value\n",
      "Date             \n",
      "2023-01-31     30\n",
      "2023-02-28     30\n"
     ]
    }
   ],
   "source": [
    "# question 10\n",
    "df = pd.DataFrame({\n",
    "    'Date': ['2023-01-05', '2023-01-15', '2023-02-10'],\n",
    "    'Value': [10, 20, 30]})\n",
    "print(df)\n",
    "df['Date']=pd.to_datetime(df['Date'])\n",
    "print(df.resample('ME', on='Date').sum())"
   ]
  },
  {
   "cell_type": "code",
   "execution_count": null,
   "id": "19444f4c-1451-45af-a7ae-8baf288aab46",
   "metadata": {},
   "outputs": [],
   "source": []
  }
 ],
 "metadata": {
  "kernelspec": {
   "display_name": "Python [conda env:base] *",
   "language": "python",
   "name": "conda-base-py"
  },
  "language_info": {
   "codemirror_mode": {
    "name": "ipython",
    "version": 3
   },
   "file_extension": ".py",
   "mimetype": "text/x-python",
   "name": "python",
   "nbconvert_exporter": "python",
   "pygments_lexer": "ipython3",
   "version": "3.13.5"
  }
 },
 "nbformat": 4,
 "nbformat_minor": 5
}
